{
 "cells": [
  {
   "cell_type": "markdown",
   "id": "7981955e-3b33-4066-a86f-efa775882d86",
   "metadata": {
    "tags": []
   },
   "source": [
    "# Data Science Tools and Ecosystem\n",
    "This is an exercise By IBM to summarize Data science Tools and Ecosystem \n",
    "\n",
    "\n"
   ]
  },
  {
   "cell_type": "markdown",
   "id": "72688c81-a97d-4c5a-80aa-d3125a4c2cdc",
   "metadata": {},
   "source": [
    "Popular Data Science Languages used For Coding includes: \n",
    "1. Python\n",
    "2. R\n",
    "3. SQL\n",
    "4. Julia"
   ]
  },
  {
   "cell_type": "markdown",
   "id": "359b0a68-5ee0-4b98-8f04-f9c6b72f7e9b",
   "metadata": {},
   "source": [
    "Popular Data Science Libraries:\n",
    "\n",
    "1.Pandas| Data Science Tools :\n",
    "\n",
    "2.NumPY\n",
    "\n",
    "3.Matplotlib\n",
    "\n",
    "4.Ploty\n",
    "\n"
   ]
  },
  {
   "cell_type": "markdown",
   "id": "54d824d3-dcc1-4a83-a3f5-c2419c0a7cb1",
   "metadata": {},
   "source": [
    "| Data Science Tools |\n",
    "|--------------------|\n",
    "| Jupyter Notebook    |\n",
    "| RStudio             |\n",
    "| Apache Sparke     |"
   ]
  },
  {
   "cell_type": "markdown",
   "id": "29dd39ee-a24b-4ade-8919-7cca2d5d520d",
   "metadata": {},
   "source": [
    "### Introducing Arithmetic Expression Examples"
   ]
  },
  {
   "cell_type": "code",
   "execution_count": 8,
   "id": "c5cf2e98-f246-45fd-ac19-869799687b57",
   "metadata": {
    "tags": []
   },
   "outputs": [
    {
     "name": "stdout",
     "output_type": "stream",
     "text": [
      "17\n"
     ]
    }
   ],
   "source": [
    "# this is an arthmetic experssion to mulitple 3 by 4 and then adding 5\n",
    "Answer = (3*4) +5\n",
    "print(Answer)"
   ]
  },
  {
   "cell_type": "code",
   "execution_count": 9,
   "id": "709104cb-2d32-413b-8a46-696a18d314e5",
   "metadata": {
    "tags": []
   },
   "outputs": [
    {
     "name": "stdout",
     "output_type": "stream",
     "text": [
      "200\n",
      "3.3333333333333335\n"
     ]
    }
   ],
   "source": [
    "# for this Execrice we are going to covvert 200 minutes into hours with simple Arthmetic Experssions\n",
    "Minutes = 200\n",
    "Hours = Minutes/60\n",
    "print(Minutes)\n",
    "print(Hours)"
   ]
  },
  {
   "cell_type": "markdown",
   "id": "edcc6166-9c4f-452b-9d6a-3ba397f01058",
   "metadata": {},
   "source": [
    "The List of the Objectives:\n",
    "\n",
    "- Getting Familiar with Jupyter Notebook\n",
    "- Remembering Data Science Languages, Tools, and Libraries\n",
    "- Creating Equations in Python\n"
   ]
  },
  {
   "cell_type": "markdown",
   "id": "48a28738-7010-4ddb-9d57-9ca2c08e1fd7",
   "metadata": {},
   "source": [
    "## Author : Ali Yazji"
   ]
  }
 ],
 "metadata": {
  "kernelspec": {
   "display_name": "Python",
   "language": "python",
   "name": "conda-env-python-py"
  },
  "language_info": {
   "codemirror_mode": {
    "name": "ipython",
    "version": 3
   },
   "file_extension": ".py",
   "mimetype": "text/x-python",
   "name": "python",
   "nbconvert_exporter": "python",
   "pygments_lexer": "ipython3",
   "version": "3.7.12"
  }
 },
 "nbformat": 4,
 "nbformat_minor": 5
}
